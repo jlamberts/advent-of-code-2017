{
 "cells": [
  {
   "cell_type": "code",
   "execution_count": 16,
   "metadata": {
    "collapsed": true
   },
   "outputs": [],
   "source": [
    "PUZZLE_INPUT = \"\"\"6046\t6349\t208\t276\t4643\t1085\t1539\t4986\t7006\t5374\t252\t4751\t226\t6757\t7495\t2923\n",
    "1432\t1538\t1761\t1658\t104\t826\t806\t109\t939\t886\t1497\t280\t1412\t127\t1651\t156\n",
    "244\t1048\t133\t232\t226\t1072\t883\t1045\t1130\t252\t1038\t1022\t471\t70\t1222\t957\n",
    "87\t172\t93\t73\t67\t192\t249\t239\t155\t23\t189\t106\t55\t174\t181\t116\n",
    "5871\t204\t6466\t6437\t5716\t232\t1513\t7079\t6140\t268\t350\t6264\t6420\t3904\t272\t5565\n",
    "1093\t838\t90\t1447\t1224\t744\t1551\t59\t328\t1575\t1544\t1360\t71\t1583\t75\t370\n",
    "213\t166\t7601\t6261\t247\t210\t4809\t6201\t6690\t6816\t7776\t2522\t5618\t580\t2236\t3598\n",
    "92\t168\t96\t132\t196\t157\t116\t94\t253\t128\t60\t167\t192\t156\t76\t148\n",
    "187\t111\t141\t143\t45\t132\t140\t402\t134\t227\t342\t276\t449\t148\t170\t348\n",
    "1894\t1298\t1531\t1354\t1801\t974\t85\t93\t1712\t130\t1705\t110\t314\t107\t449\t350\n",
    "1662\t1529\t784\t1704\t1187\t83\t422\t146\t147\t1869\t1941\t110\t525\t1293\t158\t1752\n",
    "162\t1135\t3278\t1149\t3546\t3686\t182\t149\t119\t1755\t3656\t2126\t244\t3347\t157\t865\n",
    "2049\t6396\t4111\t6702\t251\t669\t1491\t245\t210\t4314\t6265\t694\t5131\t228\t6195\t6090\n",
    "458\t448\t324\t235\t69\t79\t94\t78\t515\t68\t380\t64\t440\t508\t503\t452\n",
    "198\t216\t5700\t4212\t2370\t143\t5140\t190\t4934\t539\t5054\t3707\t6121\t5211\t549\t2790\n",
    "3021\t3407\t218\t1043\t449\t214\t1594\t3244\t3097\t286\t114\t223\t1214\t3102\t257\t3345\"\"\"\n",
    "# directly copy pasted\n",
    "\n",
    "from re import split"
   ]
  },
  {
   "cell_type": "markdown",
   "metadata": {},
   "source": [
    "# Part 1"
   ]
  },
  {
   "cell_type": "code",
   "execution_count": 34,
   "metadata": {
    "collapsed": false
   },
   "outputs": [],
   "source": [
    "def parse_spreadsheet_string(spreadsheet_str):\n",
    "    \"\"\"helper function to parse copy pasted spreadsheet text into nested list\"\"\"\n",
    "    string_spreadsheet_list = [split(r\"\\s\", row) for row in spreadsheet_str.split(\"\\n\")]\n",
    "    return [[int(val) for val in row] for row in string_spreadsheet_list]"
   ]
  },
  {
   "cell_type": "code",
   "execution_count": 38,
   "metadata": {
    "collapsed": true
   },
   "outputs": [],
   "source": [
    "def calculate_checksum(spreadsheet):\n",
    "    return sum(max(row)-min(row) for row in spreadsheet)"
   ]
  },
  {
   "cell_type": "markdown",
   "metadata": {},
   "source": [
    "## Test Case"
   ]
  },
  {
   "cell_type": "code",
   "execution_count": 41,
   "metadata": {
    "collapsed": false
   },
   "outputs": [
    {
     "data": {
      "text/plain": [
       "18"
      ]
     },
     "execution_count": 41,
     "metadata": {},
     "output_type": "execute_result"
    }
   ],
   "source": [
    "calculate_checksum(parse_spreadsheet_string(\"\"\"5 1 9 5\n",
    "7 5 3\n",
    "2 4 6 8\"\"\"))"
   ]
  },
  {
   "cell_type": "markdown",
   "metadata": {},
   "source": [
    "## Actual Input"
   ]
  },
  {
   "cell_type": "code",
   "execution_count": 36,
   "metadata": {
    "collapsed": false
   },
   "outputs": [
    {
     "data": {
      "text/plain": [
       "1761"
      ]
     },
     "execution_count": 36,
     "metadata": {},
     "output_type": "execute_result"
    }
   ],
   "source": [
    "max(parse_spreadsheet_string(PUZZLE_INPUT)[1])"
   ]
  },
  {
   "cell_type": "code",
   "execution_count": 39,
   "metadata": {
    "collapsed": false
   },
   "outputs": [
    {
     "data": {
      "text/plain": [
       "[[6046,\n",
       "  6349,\n",
       "  208,\n",
       "  276,\n",
       "  4643,\n",
       "  1085,\n",
       "  1539,\n",
       "  4986,\n",
       "  7006,\n",
       "  5374,\n",
       "  252,\n",
       "  4751,\n",
       "  226,\n",
       "  6757,\n",
       "  7495,\n",
       "  2923],\n",
       " [1432,\n",
       "  1538,\n",
       "  1761,\n",
       "  1658,\n",
       "  104,\n",
       "  826,\n",
       "  806,\n",
       "  109,\n",
       "  939,\n",
       "  886,\n",
       "  1497,\n",
       "  280,\n",
       "  1412,\n",
       "  127,\n",
       "  1651,\n",
       "  156],\n",
       " [244,\n",
       "  1048,\n",
       "  133,\n",
       "  232,\n",
       "  226,\n",
       "  1072,\n",
       "  883,\n",
       "  1045,\n",
       "  1130,\n",
       "  252,\n",
       "  1038,\n",
       "  1022,\n",
       "  471,\n",
       "  70,\n",
       "  1222,\n",
       "  957],\n",
       " [87, 172, 93, 73, 67, 192, 249, 239, 155, 23, 189, 106, 55, 174, 181, 116],\n",
       " [5871,\n",
       "  204,\n",
       "  6466,\n",
       "  6437,\n",
       "  5716,\n",
       "  232,\n",
       "  1513,\n",
       "  7079,\n",
       "  6140,\n",
       "  268,\n",
       "  350,\n",
       "  6264,\n",
       "  6420,\n",
       "  3904,\n",
       "  272,\n",
       "  5565],\n",
       " [1093,\n",
       "  838,\n",
       "  90,\n",
       "  1447,\n",
       "  1224,\n",
       "  744,\n",
       "  1551,\n",
       "  59,\n",
       "  328,\n",
       "  1575,\n",
       "  1544,\n",
       "  1360,\n",
       "  71,\n",
       "  1583,\n",
       "  75,\n",
       "  370],\n",
       " [213,\n",
       "  166,\n",
       "  7601,\n",
       "  6261,\n",
       "  247,\n",
       "  210,\n",
       "  4809,\n",
       "  6201,\n",
       "  6690,\n",
       "  6816,\n",
       "  7776,\n",
       "  2522,\n",
       "  5618,\n",
       "  580,\n",
       "  2236,\n",
       "  3598],\n",
       " [92, 168, 96, 132, 196, 157, 116, 94, 253, 128, 60, 167, 192, 156, 76, 148],\n",
       " [187,\n",
       "  111,\n",
       "  141,\n",
       "  143,\n",
       "  45,\n",
       "  132,\n",
       "  140,\n",
       "  402,\n",
       "  134,\n",
       "  227,\n",
       "  342,\n",
       "  276,\n",
       "  449,\n",
       "  148,\n",
       "  170,\n",
       "  348],\n",
       " [1894,\n",
       "  1298,\n",
       "  1531,\n",
       "  1354,\n",
       "  1801,\n",
       "  974,\n",
       "  85,\n",
       "  93,\n",
       "  1712,\n",
       "  130,\n",
       "  1705,\n",
       "  110,\n",
       "  314,\n",
       "  107,\n",
       "  449,\n",
       "  350],\n",
       " [1662,\n",
       "  1529,\n",
       "  784,\n",
       "  1704,\n",
       "  1187,\n",
       "  83,\n",
       "  422,\n",
       "  146,\n",
       "  147,\n",
       "  1869,\n",
       "  1941,\n",
       "  110,\n",
       "  525,\n",
       "  1293,\n",
       "  158,\n",
       "  1752],\n",
       " [162,\n",
       "  1135,\n",
       "  3278,\n",
       "  1149,\n",
       "  3546,\n",
       "  3686,\n",
       "  182,\n",
       "  149,\n",
       "  119,\n",
       "  1755,\n",
       "  3656,\n",
       "  2126,\n",
       "  244,\n",
       "  3347,\n",
       "  157,\n",
       "  865],\n",
       " [2049,\n",
       "  6396,\n",
       "  4111,\n",
       "  6702,\n",
       "  251,\n",
       "  669,\n",
       "  1491,\n",
       "  245,\n",
       "  210,\n",
       "  4314,\n",
       "  6265,\n",
       "  694,\n",
       "  5131,\n",
       "  228,\n",
       "  6195,\n",
       "  6090],\n",
       " [458, 448, 324, 235, 69, 79, 94, 78, 515, 68, 380, 64, 440, 508, 503, 452],\n",
       " [198,\n",
       "  216,\n",
       "  5700,\n",
       "  4212,\n",
       "  2370,\n",
       "  143,\n",
       "  5140,\n",
       "  190,\n",
       "  4934,\n",
       "  539,\n",
       "  5054,\n",
       "  3707,\n",
       "  6121,\n",
       "  5211,\n",
       "  549,\n",
       "  2790],\n",
       " [3021,\n",
       "  3407,\n",
       "  218,\n",
       "  1043,\n",
       "  449,\n",
       "  214,\n",
       "  1594,\n",
       "  3244,\n",
       "  3097,\n",
       "  286,\n",
       "  114,\n",
       "  223,\n",
       "  1214,\n",
       "  3102,\n",
       "  257,\n",
       "  3345]]"
      ]
     },
     "execution_count": 39,
     "metadata": {},
     "output_type": "execute_result"
    }
   ],
   "source": [
    "parse_spreadsheet_string(PUZZLE_INPUT)"
   ]
  },
  {
   "cell_type": "code",
   "execution_count": 40,
   "metadata": {
    "collapsed": false,
    "scrolled": true
   },
   "outputs": [
    {
     "data": {
      "text/plain": [
       "50376"
      ]
     },
     "execution_count": 40,
     "metadata": {},
     "output_type": "execute_result"
    }
   ],
   "source": [
    "calculate_checksum(parse_spreadsheet_string(PUZZLE_INPUT))"
   ]
  },
  {
   "cell_type": "markdown",
   "metadata": {},
   "source": [
    "# Part 2"
   ]
  },
  {
   "cell_type": "markdown",
   "metadata": {},
   "source": [
    "I think there might be an efficient way to do this but I can't think of it.  So I'm just gonna brute force it."
   ]
  },
  {
   "cell_type": "code",
   "execution_count": 57,
   "metadata": {
    "collapsed": false
   },
   "outputs": [],
   "source": [
    "def check_divisibility(row):\n",
    "    for divisor in row:\n",
    "        for dividend in row:\n",
    "            if dividend != divisor and dividend % divisor == 0:\n",
    "                print(f\"divisor: {divisor}\")\n",
    "                print(f\"dividend:{dividend}\")\n",
    "                return dividend//divisor\n",
    "                "
   ]
  },
  {
   "cell_type": "code",
   "execution_count": 63,
   "metadata": {
    "collapsed": true
   },
   "outputs": [],
   "source": [
    "def part_2(spreadsheet):\n",
    "    return sum(check_divisibility(row) for row in spreadsheet)"
   ]
  },
  {
   "cell_type": "markdown",
   "metadata": {},
   "source": [
    "## Test"
   ]
  },
  {
   "cell_type": "code",
   "execution_count": 67,
   "metadata": {
    "collapsed": false,
    "scrolled": true
   },
   "outputs": [
    {
     "name": "stdout",
     "output_type": "stream",
     "text": [
      "divisor: 2\n",
      "dividend:8\n",
      "divisor: 3\n",
      "dividend:9\n",
      "divisor: 3\n",
      "dividend:6\n"
     ]
    },
    {
     "data": {
      "text/plain": [
       "9"
      ]
     },
     "execution_count": 67,
     "metadata": {},
     "output_type": "execute_result"
    }
   ],
   "source": [
    "part_2(parse_spreadsheet_string(\"\"\"5 9 2 8\n",
    "9 4 7 3\n",
    "3 8 6 5\"\"\"))"
   ]
  },
  {
   "cell_type": "markdown",
   "metadata": {},
   "source": [
    "## Actual"
   ]
  },
  {
   "cell_type": "code",
   "execution_count": 68,
   "metadata": {
    "collapsed": false
   },
   "outputs": [
    {
     "name": "stdout",
     "output_type": "stream",
     "text": [
      "divisor: 226\n",
      "dividend:7006\n",
      "divisor: 127\n",
      "dividend:1651\n",
      "divisor: 226\n",
      "dividend:1130\n",
      "divisor: 87\n",
      "dividend:174\n",
      "divisor: 232\n",
      "dividend:6264\n",
      "divisor: 75\n",
      "dividend:1575\n",
      "divisor: 213\n",
      "dividend:6816\n",
      "divisor: 96\n",
      "dividend:192\n",
      "divisor: 134\n",
      "dividend:402\n",
      "divisor: 107\n",
      "dividend:1712\n",
      "divisor: 146\n",
      "dividend:1752\n",
      "divisor: 149\n",
      "dividend:3278\n",
      "divisor: 210\n",
      "dividend:6090\n",
      "divisor: 64\n",
      "dividend:448\n",
      "divisor: 190\n",
      "dividend:5700\n",
      "divisor: 223\n",
      "dividend:3345\n"
     ]
    },
    {
     "data": {
      "text/plain": [
       "267"
      ]
     },
     "execution_count": 68,
     "metadata": {},
     "output_type": "execute_result"
    }
   ],
   "source": [
    "part_2(parse_spreadsheet_string(PUZZLE_INPUT))"
   ]
  }
 ],
 "metadata": {
  "anaconda-cloud": {},
  "kernelspec": {
   "display_name": "Python [conda env:python36]",
   "language": "python",
   "name": "conda-env-python36-py"
  },
  "language_info": {
   "codemirror_mode": {
    "name": "ipython",
    "version": 3
   },
   "file_extension": ".py",
   "mimetype": "text/x-python",
   "name": "python",
   "nbconvert_exporter": "python",
   "pygments_lexer": "ipython3",
   "version": "3.6.1"
  }
 },
 "nbformat": 4,
 "nbformat_minor": 1
}
